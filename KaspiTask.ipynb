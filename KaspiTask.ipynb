{
 "cells": [
  {
   "cell_type": "code",
   "execution_count": 1,
   "id": "8d3f34c8",
   "metadata": {},
   "outputs": [],
   "source": [
    "import pandas as pd\n",
    "import matplotlib.pyplot as plt\n",
    "import cx_Oracle as sql \n",
    "from dateutil.relativedelta import relativedelta\n",
    "import datetime\n",
    "import numpy as np\n",
    "import matplotlib.pyplot as plt\n",
    "import matplotlib.dates as mdates\n",
    "from ipywidgets import widgets, interactive\n"
   ]
  },
  {
   "cell_type": "code",
   "execution_count": 2,
   "id": "5c6644d2",
   "metadata": {},
   "outputs": [],
   "source": [
    "#DB details\n",
    "ip = 'localhost'\n",
    "port = 1521\n",
    "SID = 'xe'\n",
    "dsn_tns = sql.makedsn(ip, port, SID)\n",
    "username = 'system'\n",
    "password = '123'"
   ]
  },
  {
   "cell_type": "code",
   "execution_count": 3,
   "id": "760a646d",
   "metadata": {},
   "outputs": [],
   "source": [
    "#Data preparation\n",
    "data = pd.read_csv(\"archive/indexData.csv\")\n",
    "info = pd.read_csv(\"archive/indexInfo.csv\")\n",
    "processed = pd.read_csv(\"archive/indexProcessed.csv\")"
   ]
  },
  {
   "cell_type": "code",
   "execution_count": 4,
   "id": "0601d21c",
   "metadata": {},
   "outputs": [],
   "source": [
    "data.Date = data.Date.apply(lambda x: datetime.datetime.strptime(x, \"%Y-%m-%d\"))\n",
    "data = data.astype(object).replace(np.nan, None)\n",
    "processed = processed.astype(object).replace(np.nan, None)\n",
    "processed.Date = processed.Date.apply(lambda x: datetime.datetime.strptime(x, \"%Y-%m-%d\"))"
   ]
  },
  {
   "cell_type": "code",
   "execution_count": 5,
   "id": "975b4336",
   "metadata": {},
   "outputs": [],
   "source": [
    "#Delete 'data','info','processed' tables from DB \n",
    "def delete_tables(): \n",
    "    try:\n",
    "        conn = sql.connect(username, password, dsn_tns)\n",
    "        try:\n",
    "            curs = conn.cursor()\n",
    "            for x in ['data','info','processed']:\n",
    "                try:\n",
    "                    curs.execute(f'''\n",
    "                            DROP TABLE system.{x}\n",
    "                                   ''')\n",
    "                except:\n",
    "                    print('error occurred on '+x+' table')\n",
    "        finally:\n",
    "            curs.close()\n",
    "    finally:\n",
    "        if conn is not None:\n",
    "            conn.close()            "
   ]
  },
  {
   "cell_type": "code",
   "execution_count": 6,
   "id": "ef5a0aa9",
   "metadata": {},
   "outputs": [],
   "source": [
    "#Delete 'V_NOTPROCESSED','V_PROCESSED' views from DB \n",
    "def delete_views(): \n",
    "    try:\n",
    "        conn = sql.connect(username, password, dsn_tns)\n",
    "        try:\n",
    "            curs = conn.cursor()\n",
    "            for x in ['V_NOTPROCESSED','V_PROCESSED']:\n",
    "                try:\n",
    "                    curs.execute(f'''\n",
    "                            DROP VIEW {x}\n",
    "                                   ''')\n",
    "                except:\n",
    "                    print('error occurred on '+x+' table\\nTable do not exist')\n",
    "        finally:\n",
    "            curs.close()\n",
    "    finally:\n",
    "        if conn is not None:\n",
    "            conn.close()   "
   ]
  },
  {
   "cell_type": "code",
   "execution_count": 7,
   "id": "683c72c7",
   "metadata": {},
   "outputs": [],
   "source": [
    " #execute sql querry/statement with automatic opening and closing connection to DB \n",
    "def execute(sqlcmd):\n",
    "    try:\n",
    "        conn = sql.connect(username, password, dsn_tns)\n",
    "        try:\n",
    "            curs = conn.cursor()\n",
    "            curs.execute(sqlcmd)\n",
    "        finally:\n",
    "            conn.commit()\n",
    "            curs.close()\n",
    "    finally:\n",
    "        if conn is not None:\n",
    "            conn.close()"
   ]
  },
  {
   "cell_type": "code",
   "execution_count": 8,
   "id": "477addd0",
   "metadata": {},
   "outputs": [],
   "source": [
    "#execute sql querry/statement and executes it against all parameter sequences automatic opening and closing connection to DB \n",
    "def executemany(sqlcmd, seq_of_params): \n",
    "    try:\n",
    "        conn = sql.connect(username, password, dsn_tns)\n",
    "        try:\n",
    "            curs = conn.cursor()\n",
    "            curs.executemany(sqlcmd, seq_of_params)\n",
    "        finally:\n",
    "            conn.commit()\n",
    "            curs.close()\n",
    "    finally:\n",
    "        if conn is not None:\n",
    "            conn.close()"
   ]
  },
  {
   "cell_type": "code",
   "execution_count": 12,
   "id": "bface890",
   "metadata": {},
   "outputs": [],
   "source": [
    "#delete_tables()\n",
    "#delete_views()"
   ]
  },
  {
   "cell_type": "code",
   "execution_count": 11,
   "id": "6d8b21a7",
   "metadata": {},
   "outputs": [],
   "source": [
    "sql_create_table = ['''\n",
    "        CREATE TABLE info (\n",
    "            info_region varchar(15),\n",
    "            info_exchange varchar(32),\n",
    "            info_index varchar(10) primary key,\n",
    "            info_currency varchar(3)\n",
    "            )\n",
    "               ''',\n",
    "                '''\n",
    "        CREATE TABLE data (\n",
    "            data_key int GENERATED BY DEFAULT ON NULL AS IDENTITY primary key, \n",
    "            data_index varchar(10),\n",
    "            data_date date,\n",
    "            data_open float,\n",
    "            data_high float,\n",
    "            data_low float,\n",
    "            data_close float,\n",
    "            data_adj_close float,\n",
    "            data_volume float\n",
    "    \n",
    "            )\n",
    "               ''',\n",
    "                  \n",
    "                 '''\n",
    "        CREATE TABLE processed (\n",
    "            pr_key int GENERATED BY DEFAULT ON NULL AS IDENTITY primary key,\n",
    "            pr_index varchar(10) ,\n",
    "            pr_date date,\n",
    "            pr_open float,\n",
    "            pr_high float,\n",
    "            pr_low float,\n",
    "            pr_close float,\n",
    "            pr_adj_close float,\n",
    "            pr_volume float,\n",
    "            pr_close_USD float\n",
    "            )\n",
    "               '''\n",
    "                 ]"
   ]
  },
  {
   "cell_type": "code",
   "execution_count": 13,
   "id": "faa98d1c",
   "metadata": {},
   "outputs": [],
   "source": [
    "for cmd in sql_create_table: #Create empty tables in db\n",
    "    execute(cmd)"
   ]
  },
  {
   "cell_type": "code",
   "execution_count": 14,
   "id": "99da2ff6",
   "metadata": {},
   "outputs": [],
   "source": [
    "sql_insert_tables = {\"INSERT INTO SYSTEM.INFO VALUES(:1,:2,:3,:4)\" : [tuple(x) for x in info.to_numpy()],\n",
    "                     \"INSERT INTO SYSTEM.DATA(data_index, data_date, data_open, data_high, data_low, data_close, data_adj_close, data_volume) VALUES(:1,:2,:3,:4,:5,:6,:7,:8)\": [tuple(x) for x in data.to_numpy()],\n",
    "                     \"INSERT INTO SYSTEM.PROCESSED(pr_index, pr_date, pr_open, pr_high, pr_low, pr_close, pr_adj_close, pr_volume, pr_close_usd) VALUES(:1,:2,:3,:4,:5,:6,:7,:8,:9)\": [tuple(x) for x in processed.to_numpy()],\n",
    "}"
   ]
  },
  {
   "cell_type": "code",
   "execution_count": 15,
   "id": "157eb165",
   "metadata": {},
   "outputs": [],
   "source": [
    "for cmd, values in sql_insert_tables.items(): #Insert data from csv to database\n",
    "    try:\n",
    "        executemany(cmd, values)\n",
    "    except:\n",
    "        print(cmd)"
   ]
  },
  {
   "cell_type": "code",
   "execution_count": 16,
   "id": "7011da48",
   "metadata": {},
   "outputs": [],
   "source": [
    "altedtable = ['ALTER TABLE DATA ADD CONSTRAINT FK_DATA FOREIGN KEY (\"DATA_INDEX\") REFERENCES \"INFO\" (\"INFO_INDEX\")',\n",
    "              'ALTER TABLE PROCESSED ADD CONSTRAINT FK_PROCESSED FOREIGN KEY (\"PR_INDEX\") REFERENCES \"INFO\" (\"INFO_INDEX\")',\n",
    "              'ALTER TABLE PROCESSED ADD CONSTRAINT FK_PROCESSED2 FOREIGN KEY (\"PR_KEY\") REFERENCES \"DATA\" (\"DATA_KEY\")'\n",
    "             ] "
   ]
  },
  {
   "cell_type": "code",
   "execution_count": 17,
   "id": "42d2083c",
   "metadata": {},
   "outputs": [],
   "source": [
    "for cmd in altedtable: #set foreign keys\n",
    "    execute(cmd)"
   ]
  },
  {
   "cell_type": "code",
   "execution_count": 18,
   "id": "7fb09cd4",
   "metadata": {},
   "outputs": [],
   "source": [
    "processed_update_key = '''\n",
    "        UPDATE (\n",
    "        Select pr_key, data_key from processed\n",
    "        inner join data on data.data_index = processed.pr_index\n",
    "        where pr_index = data_index and pr_date = data_date\n",
    "        ) t\n",
    "        SET t.pr_key = t.data_key\n",
    "'''"
   ]
  },
  {
   "cell_type": "code",
   "execution_count": 19,
   "id": "342e81eb",
   "metadata": {},
   "outputs": [],
   "source": [
    "execute(processed_update_key) #update proccesed key on based on data key "
   ]
  },
  {
   "cell_type": "code",
   "execution_count": 20,
   "id": "ec4e8c24",
   "metadata": {},
   "outputs": [],
   "source": [
    "create_V_NOTPROCESSED = '''\n",
    "        CREATE VIEW \"V_NOTPROCESSED\" AS \n",
    "            SELECT data_index as data_index, info_region AS info_region, sum(DATA_OPEN) as SUM_DATA_OPEN, sum(DATA_HIGH) as SUM_DATA_HIGH,\n",
    "            sum(DATA_LOW) as SUM_DATA_LOW, sum(DATA_CLOSE) as SUM_DATA_CLOSE, sum(DATA_ADJ_CLOSE) as SUM_DATA_ADJ_CLOSE, sum(DATA_VOLUME) as SUM_DATA_VOLUME FROM data\n",
    "            FULL OUTER JOIN processed on processed.pr_key = data.data_key\n",
    "            LEFT JOIN info ON info.info_index = data.data_index\n",
    "            WHERE PR_KEY IS NULL\n",
    "            GROUP BY info_region, data_index\n",
    "            ORDER BY info_region, data_index\n",
    "\n",
    "'''"
   ]
  },
  {
   "cell_type": "code",
   "execution_count": 21,
   "id": "da5c6e6e",
   "metadata": {},
   "outputs": [],
   "source": [
    "execute(create_V_NOTPROCESSED)"
   ]
  },
  {
   "cell_type": "code",
   "execution_count": 22,
   "id": "5b1346d6",
   "metadata": {},
   "outputs": [],
   "source": [
    "create_V_PROCESSED = '''\n",
    "    create view \"V_PROCESSED\" as\n",
    "    SELECT t.INFO_REGION, t.PR_YR, t.PR_MON, t.SUM_PR_OPEN, t.PR_HIGH, \n",
    "        t.SUM_PR_LOW, t.SUM_PR_CLOSE, t.SUM_PR_ADJ_CLOSE, t.SUM_PR_VOLUME, t.SUM_PR_CLOSE_USD,\n",
    "        t.MAX_PR_OPEN, t.MIN_PR_LOW, info.INFO_EXCHANGE, info.INFO_CURRENCY\n",
    "        FROM \n",
    "            (select info_region, extract(year from pr_date) as pr_yr, extract(month from pr_date) as pr_mon,\n",
    "            sum(PR_OPEN) as sum_PR_OPEN, sum(PR_HIGH) as PR_HIGH, sum(PR_LOW) as sum_PR_LOW, sum(PR_CLOSE) as sum_PR_CLOSE, sum(PR_ADJ_CLOSE) as sum_PR_ADJ_CLOSE, sum(PR_VOLUME) as sum_PR_VOLUME,\n",
    "            sum(PR_CLOSE_USD) as sum_PR_CLOSE_USD, max(PR_OPEN) as max_PR_OPEN, min(PR_LOW) as min_PR_LOW\n",
    "            FROM processed\n",
    "            left join info on info.info_index = processed.pr_index\n",
    "            group by info_region, extract(year from pr_date), extract(month from pr_date)\n",
    "            order by info_region, pr_yr, pr_mon) t\n",
    "            \n",
    "        LEFT JOIN info ON t.info_region = info.info_region\n",
    "'''"
   ]
  },
  {
   "cell_type": "code",
   "execution_count": 23,
   "id": "49e7fea6",
   "metadata": {},
   "outputs": [],
   "source": [
    "execute(create_V_PROCESSED)"
   ]
  },
  {
   "cell_type": "code",
   "execution_count": null,
   "id": "da31be00",
   "metadata": {},
   "outputs": [],
   "source": []
  },
  {
   "cell_type": "markdown",
   "id": "b8796c3f",
   "metadata": {},
   "source": [
    "Visualization"
   ]
  },
  {
   "cell_type": "code",
   "execution_count": 24,
   "id": "25e40ffc",
   "metadata": {},
   "outputs": [],
   "source": [
    "import matplotlib.pyplot as plt\n",
    "import matplotlib.dates as mdates\n",
    "from ipywidgets import widgets, interactive"
   ]
  },
  {
   "cell_type": "code",
   "execution_count": 25,
   "id": "05f7c9d1",
   "metadata": {},
   "outputs": [],
   "source": [
    "def import_view_db():\n",
    "    try:\n",
    "        connection = sql.connect(username, password, dsn_tns)\n",
    "\n",
    "        return pd.read_sql(f'select * from V_PROCESSED', con=connection), pd.read_sql(f'select * from V_NOTPROCESSED', con=connection)\n",
    "    finally:\n",
    "        if connection is not None:\n",
    "            connection.close()"
   ]
  },
  {
   "cell_type": "code",
   "execution_count": 26,
   "id": "0aa27bc2",
   "metadata": {},
   "outputs": [],
   "source": [
    "V_PROCESSED, V_NOTPROCESSED = import_view_db()"
   ]
  },
  {
   "cell_type": "code",
   "execution_count": 27,
   "id": "d0e74a01",
   "metadata": {},
   "outputs": [],
   "source": [
    "country = widgets.Dropdown(\n",
    "    options=list(V_PROCESSED['INFO_REGION'].unique()),\n",
    "    value='United States',\n",
    "    description='Country:')"
   ]
  },
  {
   "cell_type": "code",
   "execution_count": 30,
   "id": "ddc5ba7c",
   "metadata": {},
   "outputs": [],
   "source": [
    "def graphmaxopen(country):\n",
    "    V_PROCESSED, V_NOTPROCESSED = import_view_db()\n",
    "    mean_max_open = V_PROCESSED.query(f\"INFO_REGION == '{country}'\" ).groupby(['PR_MON', 'INFO_CURRENCY']).mean()\n",
    "    mean_max_open['Date']=[f\"2021-{x}-1\" for x in mean_max_open.reset_index().PR_MON.to_list()]\n",
    "    mean_max_open['Date'] = pd.to_datetime(mean_max_open.Date)\n",
    "    mean_max_open = mean_max_open.reset_index().set_index('Date')\n",
    "\n",
    "    fig, ax = plt.subplots(2, figsize=(20, 15))\n",
    "    ax[0].plot(mean_max_open.MAX_PR_OPEN, '--o', alpha=0.5)\n",
    "    ax[0].bar(mean_max_open.MAX_PR_OPEN.index, mean_max_open.MAX_PR_OPEN,\n",
    "          width=20)\n",
    "    locator = mdates.MonthLocator()  # every month\n",
    "    fmt = mdates.DateFormatter('%b')\n",
    "    ax[0].xaxis.set_major_locator(locator)\n",
    "    ax[0].xaxis.set_major_formatter(fmt)\n",
    "\n",
    "    ax[0].axes.set_ylim((mean_max_open.MAX_PR_OPEN.min()-200, mean_max_open.MAX_PR_OPEN.max()+200))\n",
    "    \n",
    "    ax[0].set_title('Highest price (mean) at the moment of the opening date')\n",
    "    ax[0].set_xlabel('months')     \n",
    "    ax[0].yaxis.set_label_text(mean_max_open.INFO_CURRENCY[0])\n",
    "\n",
    "    ax[0].bar_label(ax[0].containers[0], padding=5)\n",
    "    \n",
    "    \n",
    "    ax[1].plot(mean_max_open.MIN_PR_LOW, '--o', alpha=0.5, color='orange')\n",
    "    ax[1].bar(mean_max_open.MIN_PR_LOW.index, mean_max_open.MIN_PR_LOW,\n",
    "          width=20, color='orange')\n",
    "    locator = mdates.MonthLocator()  # every month\n",
    "    fmt = mdates.DateFormatter('%b')\n",
    "    ax[1].xaxis.set_major_locator(locator)\n",
    "    ax[1].xaxis.set_major_formatter(fmt)\n",
    "\n",
    "    ax[1].set_title('Minimum price (mean)')\n",
    "    ax[1].axes.set_ylim((mean_max_open.MIN_PR_LOW.min()-200, mean_max_open.MIN_PR_LOW.max()+200))\n",
    "    ax[1].set_xlabel('months')     \n",
    "    ax[1].yaxis.set_label_text(mean_max_open.INFO_CURRENCY[0])\n",
    "    ax[1].bar_label(ax[1].containers[0], padding=5)\n",
    "    plt.show()\n",
    "    "
   ]
  },
  {
   "cell_type": "code",
   "execution_count": 31,
   "id": "b9db10cc",
   "metadata": {},
   "outputs": [
    {
     "data": {
      "image/png": "[encoded data removed]",
      "text/plain": [
       "<Figure size 1440x1080 with 2 Axes>"
      ]
     },
     "metadata": {
      "needs_background": "light"
     },
     "output_type": "display_data"
    }
   ],
   "source": [
    "#visualization \n",
    "graphmaxopen(\"Japan\")"
   ]
  },
  {
   "cell_type": "code",
   "execution_count": 29,
   "id": "cd9fb6ae",
   "metadata": {
    "scrolled": false
   },
   "outputs": [
    {
     "data": {
      "application/vnd.jupyter.widget-view+json": {
       "model_id": "ba34827f296249818db0f0f054c89e43",
       "version_major": 2,
       "version_minor": 0
      },
      "text/plain": [
       "interactive(children=(Dropdown(description='Country:', index=10, options=('Canada', 'China', 'Europe', 'German…"
      ]
     },
     "metadata": {},
     "output_type": "display_data"
    }
   ],
   "source": [
    "#visualization with ComboBox\n",
    "interactive(graphmaxopen, country=country)"
   ]
  }
 ],
 "metadata": {
  "kernelspec": {
   "display_name": "Python 3",
   "language": "python",
   "name": "python3"
  },
  "language_info": {
   "codemirror_mode": {
    "name": "ipython",
    "version": 3
   },
   "file_extension": ".py",
   "mimetype": "text/x-python",
   "name": "python",
   "nbconvert_exporter": "python",
   "pygments_lexer": "ipython3",
   "version": "3.9.1"
  }
 },
 "nbformat": 4,
 "nbformat_minor": 5
}
